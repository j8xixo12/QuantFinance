{
 "cells": [
  {
   "cell_type": "code",
   "execution_count": 2,
   "metadata": {
    "tags": [
     "outputPrepend",
     "outputPrepend",
     "outputPrepend",
     "outputPrepend",
     "outputPrepend",
     "outputPrepend",
     "outputPrepend",
     "outputPrepend"
    ]
   },
   "outputs": [
    {
     "output_type": "stream",
     "name": "stdout",
     "text": "[*********************100%***********************]  1 of 1 completed\n2020-05-28, (ma_period = 20) --- Terminal Value: 1151350.00\n"
    },
    {
     "output_type": "execute_result",
     "data": {
      "text/plain": "[[<Figure size 640x480 with 3 Axes>]]"
     },
     "metadata": {},
     "execution_count": 2
    }
   ],
   "source": [
    "# %matplotlib inline\n",
    "from datetime import datetime\n",
    "from SMA_Strategy import SmaStrategy\n",
    "import backtrader as bt\n",
    "import pandas as pd\n",
    "from pandas_datareader import data\n",
    "from plotly.offline import init_notebook_mode\n",
    "import yfinance as yf\n",
    "yf.pdr_override() # <== that's all it takes :-)\n",
    "# init_notebook_mode()\n",
    "\n",
    "aapl_df = data.DataReader('1325.TW',\n",
    "                      start='2019-01-01', \n",
    "                      end='2020-05-29')\n",
    "                      \n",
    "data_aapl = bt.feeds.PandasData(dataname = aapl_df)\n",
    "\n",
    "cerebro = bt.Cerebro(stdstats = False)\n",
    "\n",
    "cerebro.adddata(data_aapl)\n",
    "cerebro.addsizer(bt.sizers.FixedSize, stake=2000)\n",
    "# cerebro.optstrategy(SmaStrategy, ma_period=range(1, 120))\n",
    "cerebro.addstrategy(SmaStrategy)\n",
    "cerebro.broker.setcash(1000000.0)\n",
    "cerebro.addobserver(bt.observers.BuySell)\n",
    "cerebro.addobserver(bt.observers.Value)\n",
    "cerebro.run(maxcpus=1)\n",
    "\n",
    "# print(f'Starting Portfolio Value: {cerebro.broker.getvalue():.2f}')\n",
    "# cerebro.run()\n",
    "# print(f'Final Portfolio Value: {cerebro.broker.getvalue():.2f}')\n",
    "\n",
    "cerebro.plot(iplot=False, volume=True)"
   ]
  },
  {
   "cell_type": "code",
   "execution_count": null,
   "metadata": {},
   "outputs": [],
   "source": []
  }
 ],
 "metadata": {
  "language_info": {
   "codemirror_mode": {
    "name": "ipython",
    "version": 3
   },
   "file_extension": ".py",
   "mimetype": "text/x-python",
   "name": "python",
   "nbconvert_exporter": "python",
   "pygments_lexer": "ipython3",
   "version": "3.7.7-final"
  },
  "orig_nbformat": 2,
  "kernelspec": {
   "name": "python37764bitf0bd54e35482406389f6d4d31c7d626b",
   "display_name": "Python 3.7.7 64-bit"
  }
 },
 "nbformat": 4,
 "nbformat_minor": 2
}